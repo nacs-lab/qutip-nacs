{
 "cells": [
  {
   "cell_type": "markdown",
   "id": "ed027671-ccfc-48d1-8024-5b5885aab9bc",
   "metadata": {},
   "source": [
    "# Ground Rydberg Dynamics\n",
    "\n",
    "We will use `GenStateChain` to simulate some Ground-Rydberg Hamiltonian Dynamics. We will call state 0 the ground state and state 1 the excited state.\n",
    "\n",
    "We import the module and set a chain of 2 sites."
   ]
  },
  {
   "cell_type": "code",
   "execution_count": 1,
   "id": "d34c3d96-a2eb-4f21-8a85-d0c767b24e61",
   "metadata": {},
   "outputs": [],
   "source": [
    "import GenStateChain as GSC\n",
    "import numpy as np\n",
    "GSC.set_n([2,2])"
   ]
  },
  {
   "cell_type": "markdown",
   "id": "9934daf7-d7bf-4ccf-9908-689a5c928cb9",
   "metadata": {},
   "source": [
    "Now, we need to create our driven Rydberg Hamiltonian:\n",
    "\n",
    "$$ H = \\frac{\\Omega}{2}\\sum_{i = 1}^3\\sigma_i^x - \\Delta \\sum_{i=1}^3 n_i + \\sum_{i < j} \\frac{C_6}{r^6} n_i n_j $$\n",
    "\n",
    "where $ n_i = |r_i\\rangle\\langle r_i | $ "
   ]
  },
  {
   "cell_type": "code",
   "execution_count": 7,
   "id": "c2c7d404-0dec-4da6-ac48-e4bc029a587b",
   "metadata": {},
   "outputs": [],
   "source": [
    "# Create the Rabi drive term and detuning term\n",
    "omega = 2 * np.pi * 1\n",
    "delta = 0\n",
    "op = GSC.Operators.zero()\n",
    "\n",
    "for i in range(2):\n",
    "    op = op + omega / 2 * GSC.Operators.sigmax([i], [[0,1]]) - delta * GSC.Operators.proj(GSC.create_state_list([i],1)) # The delta multiplies a projector of state 1 on site i\n",
    "\n",
    "# Lastly we add the interaction term. Here we use an operator from the library.\n",
    "coords = [[0,0],[1,0]] # two sites, 1 unit apart\n",
    "C6 = 1\n",
    "states = 1 # The interacting state is state 1. \n",
    "op = op + GSC.Operators.PairInteraction(coords, C6, states)"
   ]
  },
  {
   "cell_type": "code",
   "execution_count": 8,
   "id": "3fa39798-c835-4fbc-b955-d7b5767a6dc3",
   "metadata": {},
   "outputs": [
    {
     "data": {
      "text/latex": [
       "Quantum object: dims = [[2, 2], [2, 2]], shape = (4, 4), type = oper, isherm = True $ \\\\ \\left(\\begin{matrix}0.0 & 3.142 & 3.142 & 0.0\\\\3.142 & 0.0 & 0.0 & 3.142\\\\3.142 & 0.0 & 0.0 & 3.142\\\\0.0 & 3.142 & 3.142 & 1.0\\\\\\end{matrix}\\right)$"
      ],
      "text/plain": [
       "Quantum object: dims = [[2, 2], [2, 2]], shape = (4, 4), type = oper, isherm = True\n",
       "Qobj data =\n",
       "[[0.         3.14159265 3.14159265 0.        ]\n",
       " [3.14159265 0.         0.         3.14159265]\n",
       " [3.14159265 0.         0.         3.14159265]\n",
       " [0.         3.14159265 3.14159265 1.        ]]"
      ]
     },
     "execution_count": 8,
     "metadata": {},
     "output_type": "execute_result"
    }
   ],
   "source": [
    "op"
   ]
  },
  {
   "cell_type": "code",
   "execution_count": null,
   "id": "a7805675-5a2f-4f99-9475-957414e4e504",
   "metadata": {},
   "outputs": [],
   "source": []
  }
 ],
 "metadata": {
  "kernelspec": {
   "display_name": "Python 3 (ipykernel)",
   "language": "python",
   "name": "python3"
  },
  "language_info": {
   "codemirror_mode": {
    "name": "ipython",
    "version": 3
   },
   "file_extension": ".py",
   "mimetype": "text/x-python",
   "name": "python",
   "nbconvert_exporter": "python",
   "pygments_lexer": "ipython3",
   "version": "3.9.13"
  }
 },
 "nbformat": 4,
 "nbformat_minor": 5
}
