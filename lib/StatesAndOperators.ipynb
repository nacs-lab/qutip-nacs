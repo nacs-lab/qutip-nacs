{
 "cells": [
  {
   "cell_type": "markdown",
   "id": "7542cd61-04af-4ddf-8005-13049b9d48b3",
   "metadata": {},
   "source": [
    "# Welcome to GenStateChain!\n",
    "\n",
    "GenStateChain is built off of qutip, and is designed to calculate quantum mechanics with chains of \"states\", which from now on, I will call atoms :)\n",
    "\n",
    "Each atom can have an arbitrary number of states, and GenStateChain supports each atom having a different number of states. We will first discuss how to form states and then operators. After that, we will calculate dynamics consisting of several \"pulses\" and calculate fidelities."
   ]
  },
  {
   "cell_type": "markdown",
   "id": "930710f3-fa89-4f8c-8f5c-316708b04a71",
   "metadata": {},
   "source": [
    "## Preliminaries\n",
    "\n",
    "We import the module and will set the number of states of each atom in the chain. The number of states of each atom is a **module level property** and all functions from the module will make use of this setting. If it is reset, operators and states created by the module before the change will **not** be compatible with states and operators after the change."
   ]
  },
  {
   "cell_type": "code",
   "execution_count": 2,
   "id": "aaa0258c-6966-4d5c-9067-b09e058c7c1e",
   "metadata": {},
   "outputs": [],
   "source": [
    "import GenStateChain as GSC\n",
    "GSC.set_n([2,3,2]) # We have created an atom chain with 2,3 and 2 states."
   ]
  },
  {
   "cell_type": "markdown",
   "id": "f207c173-fb0e-467a-8aed-85d0e46d0db8",
   "metadata": {},
   "source": [
    "## Specifying a State\n",
    "\n",
    "The main way we specify a state is to use `GenStateChain.States.specify`. We provide a list with the state of each atom. Note that the atom states are zero-indexed much like everything in python."
   ]
  },
  {
   "cell_type": "code",
   "execution_count": 4,
   "id": "831950e6-2c40-44c0-afcb-b0c7886c0f04",
   "metadata": {},
   "outputs": [
    {
     "data": {
      "text/plain": [
       "array([[0.+0.j],\n",
       "       [0.+0.j],\n",
       "       [0.+0.j],\n",
       "       [1.+0.j],\n",
       "       [0.+0.j],\n",
       "       [0.+0.j],\n",
       "       [0.+0.j],\n",
       "       [0.+0.j],\n",
       "       [0.+0.j],\n",
       "       [0.+0.j],\n",
       "       [0.+0.j],\n",
       "       [0.+0.j]])"
      ]
     },
     "execution_count": 4,
     "metadata": {},
     "output_type": "execute_result"
    }
   ],
   "source": [
    "state011 = GSC.States.specify([0,1,1]) # Atoms in states 0,1, and 1\n",
    "state011.full() # The numpy version of the state"
   ]
  },
  {
   "cell_type": "markdown",
   "id": "f30dc72a-d8c0-4de6-ac51-e3e7c63e8c51",
   "metadata": {},
   "source": [
    "For convenience, `GenStateChain.States.all_ground` exists to quickly get a state which is the ground state for all atoms"
   ]
  },
  {
   "cell_type": "code",
   "execution_count": 6,
   "id": "c694894e-f74e-43c5-b8b5-3a51e168b5d0",
   "metadata": {},
   "outputs": [
    {
     "data": {
      "text/plain": [
       "array([[1.+0.j],\n",
       "       [0.+0.j],\n",
       "       [0.+0.j],\n",
       "       [0.+0.j],\n",
       "       [0.+0.j],\n",
       "       [0.+0.j],\n",
       "       [0.+0.j],\n",
       "       [0.+0.j],\n",
       "       [0.+0.j],\n",
       "       [0.+0.j],\n",
       "       [0.+0.j],\n",
       "       [0.+0.j]])"
      ]
     },
     "execution_count": 6,
     "metadata": {},
     "output_type": "execute_result"
    }
   ],
   "source": [
    "all_ground_state = GSC.States.all_ground()\n",
    "all_ground_state.full()"
   ]
  },
  {
   "cell_type": "markdown",
   "id": "2924f40a-c579-43e0-919e-965cfa9c1960",
   "metadata": {},
   "source": [
    "## Specifying Operators\n",
    "\n",
    "Operators primarily live in `GenStateChain.Operators`. An identity operator can be created with `GenStateChain.Operators.identity`. Note that we can calculate expectation values with `qutip.expect`. The qutip module can be accessed by importing it. `GenStateChain` also provides the library as `GenStateChain.qt`."
   ]
  },
  {
   "cell_type": "code",
   "execution_count": 9,
   "id": "96940364-52cc-43f4-bd0d-561942a3045a",
   "metadata": {},
   "outputs": [
    {
     "name": "stdout",
     "output_type": "stream",
     "text": [
      "Quantum object: dims = [[2, 3, 2], [2, 3, 2]], shape = (12, 12), type = oper, isherm = True\n",
      "Qobj data =\n",
      "[[1. 0. 0. 0. 0. 0. 0. 0. 0. 0. 0. 0.]\n",
      " [0. 1. 0. 0. 0. 0. 0. 0. 0. 0. 0. 0.]\n",
      " [0. 0. 1. 0. 0. 0. 0. 0. 0. 0. 0. 0.]\n",
      " [0. 0. 0. 1. 0. 0. 0. 0. 0. 0. 0. 0.]\n",
      " [0. 0. 0. 0. 1. 0. 0. 0. 0. 0. 0. 0.]\n",
      " [0. 0. 0. 0. 0. 1. 0. 0. 0. 0. 0. 0.]\n",
      " [0. 0. 0. 0. 0. 0. 1. 0. 0. 0. 0. 0.]\n",
      " [0. 0. 0. 0. 0. 0. 0. 1. 0. 0. 0. 0.]\n",
      " [0. 0. 0. 0. 0. 0. 0. 0. 1. 0. 0. 0.]\n",
      " [0. 0. 0. 0. 0. 0. 0. 0. 0. 1. 0. 0.]\n",
      " [0. 0. 0. 0. 0. 0. 0. 0. 0. 0. 1. 0.]\n",
      " [0. 0. 0. 0. 0. 0. 0. 0. 0. 0. 0. 1.]]\n",
      "True\n",
      "True\n"
     ]
    }
   ],
   "source": [
    "print(GSC.Operators.identity())\n",
    "print(1 == GSC.qt.expect(GSC.Operators.identity(), state011))\n",
    "print(1 == GSC.qt.expect(GSC.Operators.identity(), all_ground_state))"
   ]
  },
  {
   "cell_type": "markdown",
   "id": "38caf9c3-eec8-44db-bb7c-f615cbdf6e6c",
   "metadata": {},
   "source": [
    "The full list of operators can be found in the documentation, but we will discuss a few useful ones here. The number operator returns the state number for that atom. The operator is constructed with `GenStateChain.Operators.num(idx_list)`, where `idx_list` are the indices for the atoms that should have a number operator. All other atoms experience identity. "
   ]
  },
  {
   "cell_type": "code",
   "execution_count": 14,
   "id": "5c348b7f-ac9c-4b33-b62f-3e1712f435c0",
   "metadata": {},
   "outputs": [
    {
     "name": "stdout",
     "output_type": "stream",
     "text": [
      "True\n",
      "True\n",
      "True\n",
      "True\n"
     ]
    }
   ],
   "source": [
    "num1 = GSC.Operators.num([1]) # Number operator on atom 1\n",
    "print(1 == GSC.qt.expect(num1, state011)) # atom 1 is in state 1\n",
    "print(0 == GSC.qt.expect(num1, all_ground_state)) # atom 1 is in state 0\n",
    "\n",
    "state021 = GSC.States.specify([0,2,1])\n",
    "num12 = GSC.Operators.num([1,2]) # tensor product of the number operators on atoms 1 and 2\n",
    "num01 = GSC.Operators.num([0,1]) # tensor product of the number operators on atoms 0 and 1\n",
    "\n",
    "print(2 == GSC.qt.expect(num12, state021))\n",
    "print(0 == GSC.qt.expect(num01, state021))"
   ]
  },
  {
   "cell_type": "markdown",
   "id": "d60ec4aa-c407-4c64-aebe-d8ec44cfdbb4",
   "metadata": {},
   "source": [
    "Another useful operator is the projection operator in `GenStateChain.Operators.proj(state_list)`. The `state_list` here is a state for each atom to be projected into. A `-1` indicates identity on this atom."
   ]
  },
  {
   "cell_type": "code",
   "execution_count": 20,
   "id": "fd0abb5e-7f65-490e-8418-034140ae28d9",
   "metadata": {},
   "outputs": [
    {
     "name": "stdout",
     "output_type": "stream",
     "text": [
      "True\n",
      "True\n",
      "True\n",
      "True\n"
     ]
    }
   ],
   "source": [
    "proj011 = GSC.Operators.proj([0,1,1]) # Projection operator into state 011\n",
    "print(1 == GSC.qt.expect(proj011, state011)) # should be 1\n",
    "print(0 == GSC.qt.expect(proj011, state021)) # should be 0\n",
    "\n",
    "proj0x1 = GSC.Operators.proj([0, -1, 1])\n",
    "# This operator is state agnostic on the middle site so it should be 1 for both.\n",
    "print(1 == GSC.qt.expect(proj0x1, state011))\n",
    "print(1 == GSC.qt.expect(proj0x1, state021))"
   ]
  },
  {
   "cell_type": "markdown",
   "id": "cafe9983-b52b-4752-bf9d-1c0c15956ec8",
   "metadata": {},
   "source": [
    "Paulis on a particular \"qubit\" subspace are also quite useful. For this, we have `GenStateChain.Operators.sigmax(idx_list, states, bUnitary=0)` (Also see `GenStateChain.Operators.sigmay` and `GenStateChain.Operators.sigmaz`). Here, `idx` functions similarly to `idx_list` of the number operator. It allows for the construction of products of \"Pauli\" operators. `states` is a list of lists, where each element is the particular qubit subspace for the operator. `bUnitary` controls what happens to other states of that atom. If it is `1`, then identity is performed on the other states (useful if this operator is supposed to represent unitary evolution). If it is `0`, then it annihilates other states (useful if this operator is supposed to be part of a Hamiltonian)."
   ]
  },
  {
   "cell_type": "code",
   "execution_count": 28,
   "id": "6fe42c29-482e-4417-99a0-78078678d5eb",
   "metadata": {},
   "outputs": [
    {
     "name": "stdout",
     "output_type": "stream",
     "text": [
      "Quantum object: dims = [[1], [1]], shape = (1, 1), type = bra\n",
      "Qobj data =\n",
      "[[1.]]\n",
      "True\n",
      "Quantum object: dims = [[2, 3, 2], [1, 1, 1]], shape = (12, 1), type = ket\n",
      "Qobj data =\n",
      "[[0.]\n",
      " [0.]\n",
      " [0.]\n",
      " [0.]\n",
      " [0.]\n",
      " [0.]\n",
      " [0.]\n",
      " [0.]\n",
      " [0.]\n",
      " [0.]\n",
      " [0.]\n",
      " [0.]]\n",
      "True\n"
     ]
    }
   ],
   "source": [
    "swap_op = GSC.Operators.sigmax([1], [[0,2]]) # Swaps states 0 and 2 on atom 1\n",
    "\n",
    "state001 = GSC.States.specify([0,0,1])\n",
    "print(state001.dag() * swap_op * state021) # should be 1\n",
    "print(0 == GSC.qt.expect(swap_op, state021))\n",
    "# We check with state 1 on atom 1\n",
    "print(swap_op * state011)\n",
    "\n",
    "# Compare with unitary version\n",
    "swap_op_unitary = GSC.Operators.sigmax([1], [[0,2]], bUnitary=1)\n",
    "print(1 == GSC.qt.expect(swap_op_unitary, state011))"
   ]
  },
  {
   "cell_type": "code",
   "execution_count": null,
   "id": "0d9c8044-a81d-4a4a-9efb-596ec8901f4c",
   "metadata": {},
   "outputs": [],
   "source": []
  }
 ],
 "metadata": {
  "kernelspec": {
   "display_name": "Python 3 (ipykernel)",
   "language": "python",
   "name": "python3"
  },
  "language_info": {
   "codemirror_mode": {
    "name": "ipython",
    "version": 3
   },
   "file_extension": ".py",
   "mimetype": "text/x-python",
   "name": "python",
   "nbconvert_exporter": "python",
   "pygments_lexer": "ipython3",
   "version": "3.9.13"
  }
 },
 "nbformat": 4,
 "nbformat_minor": 5
}
